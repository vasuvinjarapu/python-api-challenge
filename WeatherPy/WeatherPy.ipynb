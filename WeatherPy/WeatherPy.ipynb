{
 "cells": [
  {
   "cell_type": "markdown",
   "metadata": {},
   "source": [
    "# WeatherPy\n",
    "----\n",
    "\n",
    "#### Note\n",
    "* Instructions have been included for each segment. You do not have to follow them exactly, but they are included to help you think through the steps."
   ]
  },
  {
   "cell_type": "code",
   "execution_count": null,
   "metadata": {
    "scrolled": true
   },
   "outputs": [],
   "source": [
    "# Dependencies and Setup\n",
    "import matplotlib.pyplot as plt\n",
    "import pandas as pd\n",
    "import numpy as np\n",
    "import requests\n",
    "import time\n",
    "from scipy.stats import linregress\n",
    "\n",
    "# Import API key\n",
    "from api_keys import weather_api_key\n",
    "\n",
    "# Incorporated citipy to determine city based on latitude and longitude\n",
    "from citipy import citipy\n",
    "\n",
    "# Output File (CSV)\n",
    "output_data_file = \"../output_data/cities.csv\"\n",
    "\n",
    "# Range of latitudes and longitudes\n",
    "lat_range = (-90, 90)\n",
    "lng_range = (-180, 180)"
   ]
  },
  {
   "cell_type": "markdown",
   "metadata": {},
   "source": [
    "## Generate Cities List"
   ]
  },
  {
   "cell_type": "code",
   "execution_count": null,
   "metadata": {},
   "outputs": [],
   "source": [
    "# List for holding lat_lngs and cities\n",
    "lat_lngs = []\n",
    "cities = []\n",
    "\n",
    "# Create a set of random lat and lng combinations\n",
    "lats = np.random.uniform(lat_range[0], lat_range[1], size=1500)\n",
    "lngs = np.random.uniform(lng_range[0], lng_range[1], size=1500)\n",
    "lat_lngs = zip(lats, lngs)\n",
    "\n",
    "# Identify nearest city for each lat, lng combination\n",
    "for lat_lng in lat_lngs:\n",
    "    city = citipy.nearest_city(lat_lng[0], lat_lng[1]).city_name\n",
    "    \n",
    "    # If the city is unique, then add it to a our cities list\n",
    "    if city not in cities:\n",
    "        cities.append(city)\n",
    "\n",
    "# Print the city count to confirm sufficient count\n",
    "len(cities)"
   ]
  },
  {
   "cell_type": "markdown",
   "metadata": {},
   "source": [
    "### Perform API Calls\n",
    "* Perform a weather check on each city using a series of successive API calls.\n",
    "* Include a print log of each city as it'sbeing processed (with the city number and city name).\n"
   ]
  },
  {
   "cell_type": "code",
   "execution_count": null,
   "metadata": {
    "scrolled": true
   },
   "outputs": [],
   "source": [
    "recordCount, setCount = 0, 0\n",
    "\n",
    "url = \"http://api.openweathermap.org/data/2.5/weather?APPID=\" + weather_api_key \n",
    "print('------------------------')\n",
    "print('Beginning Data Retrieval')\n",
    "print('------------------------')\n",
    "\n",
    "for city in cities:\n",
    "    query = f\"{url}&q={city}\"\n",
    "    response = requests.get(query).json()\n",
    "\n",
    "    if recordCount < 50:\n",
    "        recordCount += 1\n",
    "    else:\n",
    "        setCount += 1\n",
    "        recordCount = 0\n",
    "    \n",
    "    print(f\"Processing record {recordCount} of set {setCount} | {city}\")\n",
    "\n",
    "print('-------------------------')\n",
    "print('Data Retrieval Complete')\n",
    "print('-------------------------')"
   ]
  },
  {
   "cell_type": "markdown",
   "metadata": {},
   "source": [
    "### Convert Raw Data to DataFrame\n",
    "* Export the city data into a .csv.\n",
    "* Display the DataFrame"
   ]
  },
  {
   "cell_type": "code",
   "execution_count": null,
   "metadata": {},
   "outputs": [],
   "source": [
    "url = \"http://api.openweathermap.org/data/2.5/weather?APPID=\" + weather_api_key \n",
    "\n",
    "new_city = []\n",
    "lat = []\n",
    "lng = []\n",
    "temp = []\n",
    "humidity = []\n",
    "cloudiness = []\n",
    "wind = []\n",
    "country = []\n",
    "date = []\n",
    "\n",
    "for city in cities:\n",
    "    query = f\"{url}&q={city}\"\n",
    "    response = requests.get(query).json()\n",
    "    \n",
    "    try:\n",
    "        cloudiness.append(response['clouds']['all'])\n",
    "        country.append(response['sys']['country'])\n",
    "        date.append(response['dt'])\n",
    "        humidity.append(response['main']['humidity'])\n",
    "        temp.append(response['main']['temp_max'])\n",
    "        lat.append(response['coord']['lat'])\n",
    "        lng.append(response['coord']['lon'])\n",
    "        wind.append(response['wind']['speed'])\n",
    "        new_city.append(city)\n",
    "    except:\n",
    "        pass\n",
    "\n",
    "weather_dict = {\n",
    "    \"City\": new_city,\n",
    "    \"Lat\": lat,\n",
    "    \"Lng\": lng,\n",
    "    \"MaxTemp\": temp,\n",
    "    \"Humidity\": humidity,\n",
    "    \"Cloudiness\": cloudiness,\n",
    "    \"Wind Speed\": wind,\n",
    "    \"Country\": country,\n",
    "    \"Date\": date,\n",
    "}\n",
    "\n",
    "weather_data = pd.DataFrame(weather_dict)\n",
    "weather_data.to_csv(output_data_file)\n",
    "weather_data.head()"
   ]
  },
  {
   "cell_type": "markdown",
   "metadata": {},
   "source": [
    "## Inspect the data and remove the cities where the humidity > 100%.\n",
    "----\n",
    "Skip this step if there are no cities that have humidity > 100%. "
   ]
  },
  {
   "cell_type": "code",
   "execution_count": null,
   "metadata": {},
   "outputs": [],
   "source": [
    "#  Get the indices of cities that have humidity over 100%.\n",
    "weather_data[weather_data['Humidity'] > 100]"
   ]
  },
  {
   "cell_type": "code",
   "execution_count": null,
   "metadata": {},
   "outputs": [],
   "source": [
    "# Make a new DataFrame equal to the city data to drop all humidity outliers by index.\n",
    "# Passing \"inplace=False\" will make a copy of the city_data DataFrame, which we call \"clean_city_data\".\n"
   ]
  },
  {
   "cell_type": "markdown",
   "metadata": {},
   "source": [
    "## Plotting the Data\n",
    "* Use proper labeling of the plots using plot titles (including date of analysis) and axes labels.\n",
    "* Save the plotted figures as .pngs."
   ]
  },
  {
   "cell_type": "markdown",
   "metadata": {},
   "source": [
    "## Latitude vs. Temperature Plot"
   ]
  },
  {
   "cell_type": "code",
   "execution_count": null,
   "metadata": {},
   "outputs": [],
   "source": [
    "import datetime\n",
    "date = datetime.datetime.fromtimestamp(int(weather_data['Date'][0])).strftime('%m/%d/%Y')"
   ]
  },
  {
   "cell_type": "code",
   "execution_count": null,
   "metadata": {
    "scrolled": true
   },
   "outputs": [],
   "source": [
    "weather_data.plot(kind='scatter', x='Lat', y='MaxTemp', c='DarkBlue')\n",
    "plt.title(f'City Latitude Vs Max Temperature ({date})')\n",
    "plt.xlabel('Latitude')\n",
    "plt.ylabel('Max temperature (F)')\n",
    "plt.grid()\n",
    "plt.show()\n",
    "plt.savefig(\"../Images/LatitudeVsTemperature.png\")"
   ]
  },
  {
   "cell_type": "markdown",
   "metadata": {},
   "source": [
    "## Latitude vs. Humidity Plot"
   ]
  },
  {
   "cell_type": "code",
   "execution_count": null,
   "metadata": {},
   "outputs": [],
   "source": [
    "weather_data.plot(kind='scatter', x='Lat', y='Humidity', c='DarkBlue')\n",
    "plt.title(f'City Latitude Vs Humidity ({date})')\n",
    "plt.xlabel('Latitude')\n",
    "plt.ylabel('Humidity')\n",
    "plt.grid()\n",
    "plt.savefig(\"../Images/LatitudeVsHumidity.png\")"
   ]
  },
  {
   "cell_type": "markdown",
   "metadata": {},
   "source": [
    "## Latitude vs. Cloudiness Plot"
   ]
  },
  {
   "cell_type": "code",
   "execution_count": null,
   "metadata": {},
   "outputs": [],
   "source": [
    "weather_data.plot(kind='scatter', x='Lat', y='Cloudiness', c='DarkBlue')\n",
    "plt.title(f'City Latitude Vs Cloudiness ({date})')\n",
    "plt.xlabel('Latitude')\n",
    "plt.ylabel('Cloudiness')\n",
    "plt.grid()\n",
    "plt.savefig(\"../Images/LatitudeVsCloudiness.png\")"
   ]
  },
  {
   "cell_type": "markdown",
   "metadata": {},
   "source": [
    "## Latitude vs. Wind Speed Plot"
   ]
  },
  {
   "cell_type": "code",
   "execution_count": null,
   "metadata": {},
   "outputs": [],
   "source": [
    "weather_data.plot(kind='scatter', x='Lat', y='Wind Speed', c='DarkBlue')\n",
    "plt.title(f'City Latitude Vs Wind Speed ({date})')\n",
    "plt.xlabel('Latitude')\n",
    "plt.ylabel('Wind Speed')\n",
    "plt.grid()\n",
    "plt.savefig(\"../Images/LatitudeVsWindSpeed.png\")"
   ]
  },
  {
   "cell_type": "markdown",
   "metadata": {},
   "source": [
    "## Linear Regression"
   ]
  },
  {
   "cell_type": "code",
   "execution_count": null,
   "metadata": {},
   "outputs": [],
   "source": [
    "# Divide Northern Hemisphere and Southern Hemisphere\n",
    "northern_hemisphere = weather_data[weather_data['Lat'] >= 0]\n",
    "southern_hemisphere = weather_data[weather_data['Lat'] < 0]"
   ]
  },
  {
   "cell_type": "code",
   "execution_count": null,
   "metadata": {},
   "outputs": [],
   "source": [
    "def makeLinRegression(df, x_Col, y_Col):\n",
    "    (regr_slope, regr_intercept, regr_r_val, _, _) = linregress(df[x_Col], df[y_Col])\n",
    "    regr_line_x = np.array([a for a in range(int(min(df[x_Col].values)), int(max(df[x_Col].values)+1))])\n",
    "    regr_line_y = regr_slope * regr_line_x + regr_intercept\n",
    "    line_eq = \"y = \" + str(round(regr_slope,2)) + \"x + \" + str(round(regr_intercept,2))\n",
    "\n",
    "    df_axes = df.plot(kind=\"scatter\", x=x_Col, y=y_Col, \n",
    "                    title=f\"{y_Col} vs. {x_Col} ({date})\")\n",
    "\n",
    "    df_axes.plot(regr_line_x, regr_line_y, 'r')\n",
    "    \n",
    "    plt.annotate(line_eq, (min(regr_line_x)+10, min(regr_line_y)+10), fontsize=12, color=\"red\")\n",
    "\n",
    "    print(f\"The r-value is: {regr_r_val:.2f}\")\n",
    "                  \n",
    "    return df_axes"
   ]
  },
  {
   "cell_type": "markdown",
   "metadata": {},
   "source": [
    "####  Northern Hemisphere - Max Temp vs. Latitude Linear Regression"
   ]
  },
  {
   "cell_type": "code",
   "execution_count": null,
   "metadata": {},
   "outputs": [],
   "source": [
    "n_temp_lat_axes = makeLinRegression(northern_hemisphere, \"Lat\", \"MaxTemp\")\n",
    "n_temp_lat_axes.get_figure().savefig(\"../Images/MaxTempVSLatitudeNorthernHemisphere.png\")"
   ]
  },
  {
   "cell_type": "markdown",
   "metadata": {},
   "source": [
    "####  Southern Hemisphere - Max Temp vs. Latitude Linear Regression"
   ]
  },
  {
   "cell_type": "code",
   "execution_count": null,
   "metadata": {},
   "outputs": [],
   "source": [
    "s_temp_lat_axes = makeLinRegression(southern_hemisphere, \"Lat\", \"MaxTemp\")\n",
    "s_temp_lat_axes.get_figure().savefig(\"../Images/MaxTempVSLatitudeSouthernHemisphere.png\")"
   ]
  },
  {
   "cell_type": "markdown",
   "metadata": {},
   "source": [
    "####  Northern Hemisphere - Humidity (%) vs. Latitude Linear Regression"
   ]
  },
  {
   "cell_type": "code",
   "execution_count": null,
   "metadata": {},
   "outputs": [],
   "source": [
    "n_humidity_lat_axes = makeLinRegression(northern_hemisphere, \"Lat\", \"Humidity\")\n",
    "n_humidity_lat_axes.get_figure().savefig(\"../Images/HumidityVSLatitudeNorthernHemisphere.png\")"
   ]
  },
  {
   "cell_type": "markdown",
   "metadata": {},
   "source": [
    "####  Southern Hemisphere - Humidity (%) vs. Latitude Linear Regression"
   ]
  },
  {
   "cell_type": "code",
   "execution_count": null,
   "metadata": {},
   "outputs": [],
   "source": [
    "s_humidity_lat_axes = makeLinRegression(southern_hemisphere, \"Lat\", \"Humidity\")\n",
    "s_humidity_lat_axes.get_figure().savefig(\"../Images/HumidityvSLatitudeSouthernHemisphere.png\")"
   ]
  },
  {
   "cell_type": "markdown",
   "metadata": {},
   "source": [
    "####  Northern Hemisphere - Cloudiness (%) vs. Latitude Linear Regression"
   ]
  },
  {
   "cell_type": "code",
   "execution_count": null,
   "metadata": {},
   "outputs": [],
   "source": [
    "n_cloudiness_lat_axes = makeLinRegression(northern_hemisphere, \"Lat\", \"Cloudiness\")\n",
    "n_cloudiness_lat_axes.get_figure().savefig(\"../Images/CloudinessVSLatitudeNorthernHemisphere.png\")"
   ]
  },
  {
   "cell_type": "markdown",
   "metadata": {},
   "source": [
    "####  Southern Hemisphere - Cloudiness (%) vs. Latitude Linear Regression"
   ]
  },
  {
   "cell_type": "code",
   "execution_count": null,
   "metadata": {},
   "outputs": [],
   "source": [
    "s_cloudiness_lat_axes = makeLinRegression(southern_hemisphere, \"Lat\", \"Cloudiness\")\n",
    "s_cloudiness_lat_axes.get_figure().savefig(\"../Images/CloudinessVSLatitudeSouthernHemisphere.png\")"
   ]
  },
  {
   "cell_type": "markdown",
   "metadata": {},
   "source": [
    "####  Northern Hemisphere - Wind Speed (mph) vs. Latitude Linear Regression"
   ]
  },
  {
   "cell_type": "code",
   "execution_count": null,
   "metadata": {},
   "outputs": [],
   "source": [
    "n_wind_lat_axes = makeLinRegression(northern_hemisphere, \"Lat\", \"Wind Speed\")\n",
    "n_wind_lat_axes.get_figure().savefig(\"../Images/WindSpeedVSLatitudeNorthernHemisphere.png\")"
   ]
  },
  {
   "cell_type": "markdown",
   "metadata": {},
   "source": [
    "####  Southern Hemisphere - Wind Speed (mph) vs. Latitude Linear Regression"
   ]
  },
  {
   "cell_type": "code",
   "execution_count": null,
   "metadata": {},
   "outputs": [],
   "source": [
    "s_wind_lat_axes=makeLinRegression(southern_hemisphere, \"Lat\", \"Wind Speed\")\n",
    "s_wind_lat_axes.get_figure().savefig(\"../Images/WindSpeedVSLatitudeSouthernHemisphere.png\")"
   ]
  }
 ],
 "metadata": {
  "anaconda-cloud": {},
  "interpreter": {
   "hash": "31f2aee4e71d21fbe5cf8b01ff0e069b9275f58929596ceb00d14d90e3e16cd6"
  },
  "kernel_info": {
   "name": "python3"
  },
  "kernelspec": {
   "display_name": "Python 3 (ipykernel)",
   "language": "python",
   "name": "python3"
  },
  "language_info": {
   "codemirror_mode": {
    "name": "ipython",
    "version": 3
   },
   "file_extension": ".py",
   "mimetype": "text/x-python",
   "name": "python",
   "nbconvert_exporter": "python",
   "pygments_lexer": "ipython3",
   "version": "3.10.4"
  },
  "latex_envs": {
   "LaTeX_envs_menu_present": true,
   "autoclose": false,
   "autocomplete": true,
   "bibliofile": "biblio.bib",
   "cite_by": "apalike",
   "current_citInitial": 1,
   "eqLabelWithNumbers": true,
   "eqNumInitial": 1,
   "hotkeys": {
    "equation": "Ctrl-E",
    "itemize": "Ctrl-I"
   },
   "labels_anchors": false,
   "latex_user_defs": false,
   "report_style_numbering": false,
   "user_envs_cfg": false
  },
  "nteract": {
   "version": "0.12.3"
  }
 },
 "nbformat": 4,
 "nbformat_minor": 4
}
